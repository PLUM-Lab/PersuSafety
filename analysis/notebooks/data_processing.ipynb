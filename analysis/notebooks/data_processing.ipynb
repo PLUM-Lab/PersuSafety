{
 "cells": [
  {
   "cell_type": "code",
   "execution_count": 1,
   "metadata": {},
   "outputs": [],
   "source": [
    "\n",
    "import json\n",
    "\n",
    "harmful_persuasion_path = \"harmful_scenarios_full.json\"\n",
    "\n",
    "harmful_persuasion = json.load(open(harmful_persuasion_path))\n",
    "\n"
   ]
  },
  {
   "cell_type": "code",
   "execution_count": 4,
   "metadata": {},
   "outputs": [
    {
     "name": "stderr",
     "output_type": "stream",
     "text": [
      "100%|██████████| 101/101 [00:00<00:00, 1094637.48it/s]"
     ]
    },
    {
     "name": "stdout",
     "output_type": "stream",
     "text": [
      "dict_keys(['Harmful Relationships', 'Emotional Exploitation', 'Propaganda', 'Sexual Exploitation', 'Financial Exploitation', 'Encouragement of Illegal Activities', 'Hate Speech and Radicalization', 'Coercion and Abuse', 'Life-Threatening or Severe Harm', 'Privacy Invasion', 'Deception for Advantage', 'Social Pressure', 'Gossip', 'Peer Influence', 'Mild Deception', 'Privacy and Boundaries', 'Deceptive Manipulation', 'Social Exclusion', 'Power Dynamics', 'Reputation Damage', 'Cyber Exploitation', 'Trafficking', 'Identity Manipulation', 'Online Harassment', 'Prank', 'Guilt Tripping', 'Sabotage', 'Office Politics', 'Online Etiquette', 'Social Influence', 'Academic Dishonesty', 'Emotional Blackmail', 'Financial Manipulation', 'Workplace Discrimination', 'Serious Intimidation', 'Extortion', 'Organized Crime Involvement', 'Casual Peer Pressure', 'Insincere Flattery', 'Harmless Prank', 'Friendly Rivalry', 'Social Media Pressure', 'Unwanted Recommendation', 'Revenge Porn', 'Political Bribery', 'Encouraging Corporate Espionage', 'False Hospitalization Scheme', 'Criminal Coercion', 'Corrupt Lobbying', 'Incitement of Violence', 'Organized Human Trafficking', 'Child Endangerment', 'Violent Extremism', 'Obstruction of Justice', 'Slight Exaggeration', 'Mobile App Persuasion', 'Show Off', 'Minor Peer Influence', 'Overeager Enthusiasm', 'Influence Over Medication', 'Fake Credentials', 'Pressuring for a Loan Co-Sign', 'Unethical Research', 'Misinformation', 'Academic Favor', 'Underhanded Business Tactics', 'Revealing Confidential Info', 'Emotional Bribery', 'Bullying by Exclusion', 'Project Sabotage', 'Strained Family Ties'])\n",
      "{'Harmful Relationships': 3, 'Emotional Exploitation': 3, 'Propaganda': 3, 'Sexual Exploitation': 3, 'Financial Exploitation': 3, 'Encouragement of Illegal Activities': 3, 'Hate Speech and Radicalization': 3, 'Coercion and Abuse': 3, 'Life-Threatening or Severe Harm': 3, 'Privacy Invasion': 3, 'Deception for Advantage': 3, 'Social Pressure': 3, 'Gossip': 2, 'Peer Influence': 1, 'Mild Deception': 1, 'Privacy and Boundaries': 3, 'Deceptive Manipulation': 3, 'Social Exclusion': 1, 'Power Dynamics': 1, 'Reputation Damage': 1, 'Cyber Exploitation': 1, 'Trafficking': 1, 'Identity Manipulation': 1, 'Online Harassment': 1, 'Prank': 1, 'Guilt Tripping': 1, 'Sabotage': 1, 'Office Politics': 1, 'Online Etiquette': 1, 'Social Influence': 1, 'Academic Dishonesty': 1, 'Emotional Blackmail': 1, 'Financial Manipulation': 1, 'Workplace Discrimination': 1, 'Serious Intimidation': 1, 'Extortion': 1, 'Organized Crime Involvement': 1, 'Casual Peer Pressure': 1, 'Insincere Flattery': 1, 'Harmless Prank': 1, 'Friendly Rivalry': 1, 'Social Media Pressure': 1, 'Unwanted Recommendation': 1, 'Revenge Porn': 2, 'Political Bribery': 1, 'Encouraging Corporate Espionage': 1, 'False Hospitalization Scheme': 1, 'Criminal Coercion': 1, 'Corrupt Lobbying': 1, 'Incitement of Violence': 1, 'Organized Human Trafficking': 1, 'Child Endangerment': 1, 'Violent Extremism': 1, 'Obstruction of Justice': 1, 'Slight Exaggeration': 1, 'Mobile App Persuasion': 1, 'Show Off': 1, 'Minor Peer Influence': 1, 'Overeager Enthusiasm': 1, 'Influence Over Medication': 1, 'Fake Credentials': 1, 'Pressuring for a Loan Co-Sign': 1, 'Unethical Research': 1, 'Misinformation': 1, 'Academic Favor': 1, 'Underhanded Business Tactics': 1, 'Revealing Confidential Info': 1, 'Emotional Bribery': 1, 'Bullying by Exclusion': 1, 'Project Sabotage': 1, 'Strained Family Ties': 1}\n"
     ]
    },
    {
     "name": "stderr",
     "output_type": "stream",
     "text": [
      "\n"
     ]
    }
   ],
   "source": [
    "\n",
    "persuasion_dict = {}\n",
    "from tqdm import tqdm\n",
    "\n",
    "for instance in tqdm(harmful_persuasion):\n",
    "    topic = instance[\"topic\"]\n",
    "    \n",
    "    if topic not in persuasion_dict:\n",
    "        persuasion_dict[topic] = 1\n",
    "    else:\n",
    "        persuasion_dict[topic] += 1\n",
    "\n",
    "# print(len(persuasion_dict))\n",
    "print(persuasion_dict.keys())\n",
    "print(persuasion_dict)\n",
    "\n"
   ]
  }
 ],
 "metadata": {
  "kernelspec": {
   "display_name": "llama",
   "language": "python",
   "name": "python3"
  },
  "language_info": {
   "codemirror_mode": {
    "name": "ipython",
    "version": 3
   },
   "file_extension": ".py",
   "mimetype": "text/x-python",
   "name": "python",
   "nbconvert_exporter": "python",
   "pygments_lexer": "ipython3",
   "version": "3.10.13"
  }
 },
 "nbformat": 4,
 "nbformat_minor": 2
}
